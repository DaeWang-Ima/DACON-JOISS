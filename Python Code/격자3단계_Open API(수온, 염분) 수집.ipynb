{
 "cells": [
  {
   "cell_type": "markdown",
   "id": "49705721-db48-40ab-928c-1678cde68429",
   "metadata": {},
   "source": [
    "# 1. 라이브러리 불러오기"
   ]
  },
  {
   "cell_type": "code",
   "execution_count": 1,
   "id": "ed57ec29-e040-4292-9d5c-76f03e92c32b",
   "metadata": {},
   "outputs": [],
   "source": [
    "import os\n",
    "import platform\n",
    "\n",
    "import requests\n",
    "import time\n",
    "\n",
    "import pandas as pd\n",
    "import numpy as np\n",
    "\n",
    "import warnings\n",
    "warnings.filterwarnings(action = \"ignore\")\n",
    "\n",
    "from tqdm.notebook import tqdm\n",
    "\n",
    "from bs4 import BeautifulSoup"
   ]
  },
  {
   "cell_type": "code",
   "execution_count": 2,
   "id": "f5be1b2d-ba3f-4154-884e-d9b337991f3d",
   "metadata": {},
   "outputs": [],
   "source": [
    "# 현재 경로를 저장\n",
    "current_path = os.getcwd()\n",
    "\n",
    "# 데이터가 저장된 경로\n",
    "data_path = os.path.abspath(os.path.join(current_path, os.pardir) + '/Data')"
   ]
  },
  {
   "cell_type": "markdown",
   "id": "30e0a3ec-9e20-41b0-a175-f239910ef447",
   "metadata": {},
   "source": [
    "- os.path.abspath : 특정 경로에 대해 절대 경로 반환\n",
    "\n",
    "- os.path.join : 경로를 병합하여 새 경로 생성"
   ]
  },
  {
   "cell_type": "code",
   "execution_count": 3,
   "id": "be63cbc8-70c8-4d3a-a322-f54392769fa2",
   "metadata": {},
   "outputs": [
    {
     "name": "stdout",
     "output_type": "stream",
     "text": [
      "연안구역 격자(3단계) 개수 : 549 \n",
      "\n"
     ]
    },
    {
     "data": {
      "text/html": [
       "<div>\n",
       "<style scoped>\n",
       "    .dataframe tbody tr th:only-of-type {\n",
       "        vertical-align: middle;\n",
       "    }\n",
       "\n",
       "    .dataframe tbody tr th {\n",
       "        vertical-align: top;\n",
       "    }\n",
       "\n",
       "    .dataframe thead th {\n",
       "        text-align: right;\n",
       "    }\n",
       "</style>\n",
       "<table border=\"1\" class=\"dataframe\">\n",
       "  <thead>\n",
       "    <tr style=\"text-align: right;\">\n",
       "      <th></th>\n",
       "      <th>격자번호</th>\n",
       "    </tr>\n",
       "  </thead>\n",
       "  <tbody>\n",
       "    <tr>\n",
       "      <th>0</th>\n",
       "      <td>GR3_F2K12_R</td>\n",
       "    </tr>\n",
       "    <tr>\n",
       "      <th>1</th>\n",
       "      <td>GR3_F2K12_S</td>\n",
       "    </tr>\n",
       "    <tr>\n",
       "      <th>2</th>\n",
       "      <td>GR3_F2K12_T</td>\n",
       "    </tr>\n",
       "    <tr>\n",
       "      <th>3</th>\n",
       "      <td>GR3_F2K12_V</td>\n",
       "    </tr>\n",
       "    <tr>\n",
       "      <th>4</th>\n",
       "      <td>GR3_F2K12_W</td>\n",
       "    </tr>\n",
       "  </tbody>\n",
       "</table>\n",
       "</div>"
      ],
      "text/plain": [
       "          격자번호\n",
       "0  GR3_F2K12_R\n",
       "1  GR3_F2K12_S\n",
       "2  GR3_F2K12_T\n",
       "3  GR3_F2K12_V\n",
       "4  GR3_F2K12_W"
      ]
     },
     "metadata": {},
     "output_type": "display_data"
    }
   ],
   "source": [
    "# 연안구역 격자(3단계) 데이터 불러오기\n",
    "third_grid = pd.read_csv(data_path + \"/연안구역_격자(3단계).csv\", encoding = \"CP949\")\n",
    "\n",
    "# 고유 격자를 리스트 객체로 저장\n",
    "grid_list = third_grid[\"격자번호\"].unique().tolist()\n",
    "\n",
    "print(\"연안구역 격자(3단계) 개수 :\", len(third_grid[\"격자번호\"].unique()), \"\\n\")\n",
    "display(third_grid.head())"
   ]
  },
  {
   "cell_type": "markdown",
   "id": "bcf332bc-1159-46f6-94e7-98fb1d879fce",
   "metadata": {},
   "source": [
    "# 2. Open API 데이터 수집"
   ]
  },
  {
   "cell_type": "code",
   "execution_count": 4,
   "id": "238a0d24-0459-4a40-8375-6fabdf3758c4",
   "metadata": {},
   "outputs": [],
   "source": [
    "# Open API KEY 값 저장\n",
    "with open(data_path + \"/ServiceKey.txt\", \"r\", encoding = \"UTF-8\") as file:\n",
    "    SERVICE_KEY = file.read()"
   ]
  },
  {
   "cell_type": "markdown",
   "id": "6bf86cdd-2c8c-4042-bd92-e3feafdde509",
   "metadata": {},
   "source": [
    "## 2.1 해양수산부_연속정보 염분(3분)"
   ]
  },
  {
   "cell_type": "code",
   "execution_count": 5,
   "id": "389bbc0b-9a91-480d-bdcb-71e150d76019",
   "metadata": {},
   "outputs": [
    {
     "name": "stdout",
     "output_type": "stream",
     "text": [
      "Shape of third_grid data *Before Create* : (549, 1) \n",
      "\n"
     ]
    },
    {
     "data": {
      "application/vnd.jupyter.widget-view+json": {
       "model_id": "0f31e9336e2042048f977b321d9d279d",
       "version_major": 2,
       "version_minor": 0
      },
      "text/plain": [
       "염분 데이터 수집:   0%|          | 0/549 [00:00<?, ?it/s]"
      ]
     },
     "metadata": {},
     "output_type": "display_data"
    },
    {
     "name": "stdout",
     "output_type": "stream",
     "text": [
      "\n",
      "Shape of thrid_grid data *After Create* : (549, 3) \n",
      "\n"
     ]
    },
    {
     "data": {
      "text/html": [
       "<div>\n",
       "<style scoped>\n",
       "    .dataframe tbody tr th:only-of-type {\n",
       "        vertical-align: middle;\n",
       "    }\n",
       "\n",
       "    .dataframe tbody tr th {\n",
       "        vertical-align: top;\n",
       "    }\n",
       "\n",
       "    .dataframe thead th {\n",
       "        text-align: right;\n",
       "    }\n",
       "</style>\n",
       "<table border=\"1\" class=\"dataframe\">\n",
       "  <thead>\n",
       "    <tr style=\"text-align: right;\">\n",
       "      <th></th>\n",
       "      <th>격자번호</th>\n",
       "      <th>염분여부</th>\n",
       "      <th>평균염분</th>\n",
       "    </tr>\n",
       "  </thead>\n",
       "  <tbody>\n",
       "    <tr>\n",
       "      <th>0</th>\n",
       "      <td>GR3_F2K12_R</td>\n",
       "      <td>Y</td>\n",
       "      <td>21.609613</td>\n",
       "    </tr>\n",
       "    <tr>\n",
       "      <th>1</th>\n",
       "      <td>GR3_F2K12_S</td>\n",
       "      <td>Y</td>\n",
       "      <td>21.631516</td>\n",
       "    </tr>\n",
       "    <tr>\n",
       "      <th>2</th>\n",
       "      <td>GR3_F2K12_T</td>\n",
       "      <td>Y</td>\n",
       "      <td>23.177613</td>\n",
       "    </tr>\n",
       "    <tr>\n",
       "      <th>3</th>\n",
       "      <td>GR3_F2K12_V</td>\n",
       "      <td>Y</td>\n",
       "      <td>21.433097</td>\n",
       "    </tr>\n",
       "    <tr>\n",
       "      <th>4</th>\n",
       "      <td>GR3_F2K12_W</td>\n",
       "      <td>Y</td>\n",
       "      <td>20.866968</td>\n",
       "    </tr>\n",
       "  </tbody>\n",
       "</table>\n",
       "</div>"
      ],
      "text/plain": [
       "          격자번호 염분여부       평균염분\n",
       "0  GR3_F2K12_R    Y  21.609613\n",
       "1  GR3_F2K12_S    Y  21.631516\n",
       "2  GR3_F2K12_T    Y  23.177613\n",
       "3  GR3_F2K12_V    Y  21.433097\n",
       "4  GR3_F2K12_W    Y  20.866968"
      ]
     },
     "metadata": {},
     "output_type": "display_data"
    }
   ],
   "source": [
    "print(\"Shape of third_grid data *Before Create* :\", third_grid.shape, \"\\n\")\n",
    "\n",
    "# 해양수산부_연속정보 염분(3분) Open API URL\n",
    "# 모든 데이터를 8월 기준으로 수집하고 있기 때문에 'analsYmd'의 값을 '201908'로 고정시키도록 한다.\n",
    "URL = \"http://apis.data.go.kr/1192000/apVhdService_Tgcsy3/getOpnTgcsy3?serviceKey=\" + SERVICE_KEY + \"&numOfRows=31&pageNo=1&analsYmd=201908&gridCd={}\"\n",
    "\n",
    "# 각 격자에 염분 정보가 포함되어 있지 않는 경우도 있으므로, 추후에 QGIS에서 구별해주기 위해 '염분여부' 변수를 생성해주도록 한다.\n",
    "third_grid[\"염분여부\"] = \"N\"\n",
    "\n",
    "# 각 격자의 염분을 저장하기 위해 '평균염분' 변수를 생성\n",
    "third_grid[\"평균염분\"] = 0\n",
    "\n",
    "# 격자번호를 바꿔가면서 데이터 수집\n",
    "for grid in tqdm(grid_list, desc = \"염분 데이터 수집\"):\n",
    "    \n",
    "    reponse = requests.get(URL.format(grid))\n",
    "    \n",
    "    # 데이터를 불러오는 과정에서 시간이 걸릴 수 있기 때문에 'time.sleep' 함수 사용\n",
    "    time.sleep(0.5)\n",
    "    \n",
    "    soup = BeautifulSoup(reponse.text, \"html.parser\")\n",
    "    \n",
    "    #----------------------\n",
    "    # try - except 구문 시작\n",
    "    #----------------------\n",
    "    \n",
    "    # 모든 격자에 염분 정보가 존재하지 않기 때문에, try-except 구문을 사용하도록 한다.\n",
    "    # 자료 여부 판단을 위해 'resultcode' 값을 추출하여 저장하도록 한다.\n",
    "    try:\n",
    "        result_value = soup.find(\"resultcode\").get_text()\n",
    "        \n",
    "    # 데이터가 존재하지 않는 경우에는 'No data' 저장\n",
    "    except:\n",
    "        result_value = \"No data\"\n",
    "    \n",
    "    #----------------------\n",
    "    # try - except 구문 종료\n",
    "    #----------------------\n",
    "    \n",
    "    # 'resultcode'의 값이 'No data'인 경우에는 염분 정보가 존재하지 않는다.\n",
    "    if result_value == \"No data\":\n",
    "        continue\n",
    "        \n",
    "    else:\n",
    "        third_grid.loc[third_grid[\"격자번호\"] == grid, \"염분여부\"] = \"Y\"\n",
    "        \n",
    "        # 각 격자의 평균염분 계산 후 저장\n",
    "        slnty_value = np.mean([float(value.get_text().strip()) for value in soup.find_all(\"slnty\")])\n",
    "        \n",
    "        third_grid.loc[third_grid[\"격자번호\"] == grid, \"평균염분\"] = slnty_value\n",
    "\n",
    "print()\n",
    "print(\"Shape of thrid_grid data *After Create* :\", third_grid.shape, \"\\n\")\n",
    "display(third_grid.head())"
   ]
  },
  {
   "cell_type": "markdown",
   "id": "7db76543-d3fb-446f-b2ec-5e0c5c91cc82",
   "metadata": {},
   "source": [
    "## 2.2 해양수산부_연속정보 수온(3분)"
   ]
  },
  {
   "cell_type": "code",
   "execution_count": 7,
   "id": "3fee2100-44f8-477a-adb2-3843fef6bec1",
   "metadata": {
    "tags": []
   },
   "outputs": [
    {
     "name": "stdout",
     "output_type": "stream",
     "text": [
      "Shape of third_grid data *Before Create* : (549, 3) \n",
      "\n"
     ]
    },
    {
     "data": {
      "application/vnd.jupyter.widget-view+json": {
       "model_id": "46693b47ce914ec58f3cff7080a3262f",
       "version_major": 2,
       "version_minor": 0
      },
      "text/plain": [
       "수온 데이터 수집:   0%|          | 0/549 [00:00<?, ?it/s]"
      ]
     },
     "metadata": {},
     "output_type": "display_data"
    },
    {
     "name": "stdout",
     "output_type": "stream",
     "text": [
      "\n",
      "Shape of third_grid data *After Create* : (549, 5) \n",
      "\n"
     ]
    },
    {
     "data": {
      "text/html": [
       "<div>\n",
       "<style scoped>\n",
       "    .dataframe tbody tr th:only-of-type {\n",
       "        vertical-align: middle;\n",
       "    }\n",
       "\n",
       "    .dataframe tbody tr th {\n",
       "        vertical-align: top;\n",
       "    }\n",
       "\n",
       "    .dataframe thead th {\n",
       "        text-align: right;\n",
       "    }\n",
       "</style>\n",
       "<table border=\"1\" class=\"dataframe\">\n",
       "  <thead>\n",
       "    <tr style=\"text-align: right;\">\n",
       "      <th></th>\n",
       "      <th>격자번호</th>\n",
       "      <th>염분여부</th>\n",
       "      <th>평균염분</th>\n",
       "      <th>수온여부</th>\n",
       "      <th>평균수온</th>\n",
       "    </tr>\n",
       "  </thead>\n",
       "  <tbody>\n",
       "    <tr>\n",
       "      <th>0</th>\n",
       "      <td>GR3_F2K12_R</td>\n",
       "      <td>Y</td>\n",
       "      <td>21.609613</td>\n",
       "      <td>Y</td>\n",
       "      <td>27.258387</td>\n",
       "    </tr>\n",
       "    <tr>\n",
       "      <th>1</th>\n",
       "      <td>GR3_F2K12_S</td>\n",
       "      <td>Y</td>\n",
       "      <td>21.631516</td>\n",
       "      <td>Y</td>\n",
       "      <td>27.290000</td>\n",
       "    </tr>\n",
       "    <tr>\n",
       "      <th>2</th>\n",
       "      <td>GR3_F2K12_T</td>\n",
       "      <td>Y</td>\n",
       "      <td>23.177613</td>\n",
       "      <td>Y</td>\n",
       "      <td>27.303548</td>\n",
       "    </tr>\n",
       "    <tr>\n",
       "      <th>3</th>\n",
       "      <td>GR3_F2K12_V</td>\n",
       "      <td>Y</td>\n",
       "      <td>21.433097</td>\n",
       "      <td>Y</td>\n",
       "      <td>27.217419</td>\n",
       "    </tr>\n",
       "    <tr>\n",
       "      <th>4</th>\n",
       "      <td>GR3_F2K12_W</td>\n",
       "      <td>Y</td>\n",
       "      <td>20.866968</td>\n",
       "      <td>Y</td>\n",
       "      <td>27.268710</td>\n",
       "    </tr>\n",
       "  </tbody>\n",
       "</table>\n",
       "</div>"
      ],
      "text/plain": [
       "          격자번호 염분여부       평균염분 수온여부       평균수온\n",
       "0  GR3_F2K12_R    Y  21.609613    Y  27.258387\n",
       "1  GR3_F2K12_S    Y  21.631516    Y  27.290000\n",
       "2  GR3_F2K12_T    Y  23.177613    Y  27.303548\n",
       "3  GR3_F2K12_V    Y  21.433097    Y  27.217419\n",
       "4  GR3_F2K12_W    Y  20.866968    Y  27.268710"
      ]
     },
     "metadata": {},
     "output_type": "display_data"
    }
   ],
   "source": [
    "print(\"Shape of third_grid data *Before Create* :\", third_grid.shape, \"\\n\")\n",
    "\n",
    "# 해양수산부_연속정보 수온(3분) Open API URL\n",
    "URL = \"http://apis.data.go.kr/1192000/apVhdService_Tgcw3/getOpnTgcw3?serviceKey=\" + SERVICE_KEY + \"&numOfRows=10&pageNo=1&analsYmd={}&gridCd={}\"\n",
    "\n",
    "# 격자번호에 수온 정보가 포함되어 있지 않는 경우도 있기 때문에, QGIS 구별해주기 위해 '수온여부' 변수를 생성해주도록 한다.\n",
    "third_grid[\"수온여부\"] = \"N\"\n",
    "\n",
    "# 각 격자의 수온을 저장하기 위해 '평균수온' 변수를 생성\n",
    "third_grid[\"평균수온\"] = 0\n",
    "\n",
    "# 2019년 8월 데이터를 수집하기 위한 날짜 리스트 생성\n",
    "date_list = [value.strftime(\"%Y%m%d\") for value in pd.date_range(start = \"20190801\", end = \"20190831\", freq = \"D\").tolist()]\n",
    "\n",
    "# 격자를 바꿔가면서 데이터 수집\n",
    "for grid in tqdm(grid_list, desc = \"수온 데이터 수집\"):\n",
    "    \n",
    "    # 격자별로 2019년 8월의 수온 값을 저장하기 위한 리스트 객체 생성\n",
    "    grid_water = []\n",
    "    \n",
    "    # 수온 API는 염분 API와 다르게 일자를 바꿔가며 데이터를 수집해야 한다.\n",
    "    for date in date_list:\n",
    "        \n",
    "        reponse = requests.get(URL.format(date, grid))\n",
    "        \n",
    "        # 데이터를 불러오는 과정에서 시간이 걸릴 수 있기 때문에 'time.sleep' 함수 사용\n",
    "        time.sleep(0.5)\n",
    "        \n",
    "        soup = BeautifulSoup(reponse.text, \"html.parser\")\n",
    "            \n",
    "        #----------------------\n",
    "        # try - except 구문 시작\n",
    "        #----------------------\n",
    "        try:\n",
    "            # 'resultcode' 값 추출\n",
    "            result_value = soup.find(\"resultcode\").get_text()\n",
    "\n",
    "            # 'resultcode'가 00이 아닌 경우에는 수온 정보가 존재하지 않기 때문에 넘어가도록 한다.\n",
    "            if result_value != \"00\":\n",
    "                continue\n",
    "\n",
    "            # 'resultcode'가 00인 경우에 수온 정보가 존재한다.\n",
    "            else:\n",
    "                wtem_value = float(soup.find(\"wtem\").get_text().strip())\n",
    "\n",
    "                # 'grid_water' 리스트에 저장\n",
    "                grid_water.append(wtem_value)\n",
    "                \n",
    "        except:\n",
    "            continue\n",
    "        #----------------------\n",
    "        # try - except 구문 종료\n",
    "        #----------------------\n",
    "        \n",
    "    # 데이터 존재유무를 확인하기 위해 'grid_water' 리스트의 길이를 저장\n",
    "    grid_water_length = len(grid_water)\n",
    "    \n",
    "    # 'grid_water' 리스트의 길이가 1 이상인 경우에만 해당 격자의 수온 정보가 포함되어 있음을 의미한다.\n",
    "    if grid_water_length >= 1:\n",
    "        third_grid.loc[third_grid[\"격자번호\"] == grid, \"수온여부\"] = \"Y\"\n",
    "        \n",
    "        # 각 격자의 평균수온 계산 후 저장\n",
    "        wtem_value = np.mean(grid_water)\n",
    "        third_grid.loc[third_grid[\"격자번호\"] == grid, \"평균수온\"] = wtem_value\n",
    "        \n",
    "print()\n",
    "print(\"Shape of third_grid data *After Create* :\", third_grid.shape, \"\\n\")\n",
    "display(third_grid.head())"
   ]
  },
  {
   "cell_type": "markdown",
   "id": "8a119e1f-f94c-45b4-9d4c-cc11b7c1f28f",
   "metadata": {},
   "source": [
    "```python\n",
    "third_data.to_csv(data_path + \"/연안구역_격자(3단계)_염분_수온.csv\", encoding = \"CP949\")\n",
    "```"
   ]
  }
 ],
 "metadata": {
  "kernelspec": {
   "display_name": "Python 3 (ipykernel)",
   "language": "python",
   "name": "python3"
  },
  "language_info": {
   "codemirror_mode": {
    "name": "ipython",
    "version": 3
   },
   "file_extension": ".py",
   "mimetype": "text/x-python",
   "name": "python",
   "nbconvert_exporter": "python",
   "pygments_lexer": "ipython3",
   "version": "3.9.7"
  }
 },
 "nbformat": 4,
 "nbformat_minor": 5
}
