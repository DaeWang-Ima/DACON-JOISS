{
 "cells": [
  {
   "cell_type": "code",
   "execution_count": 1,
   "id": "9cc31b8a-06bb-47d7-b420-abb8499bd6c5",
   "metadata": {},
   "outputs": [],
   "source": [
    "import os\n",
    "import requests\n",
    "import time\n",
    "\n",
    "import pandas as pd\n",
    "import numpy as np\n",
    "\n",
    "from tqdm import tqdm_notebook\n",
    "\n",
    "import warnings\n",
    "warnings.filterwarnings(action = 'ignore')\n",
    "\n",
    "from bs4 import BeautifulSoup"
   ]
  },
  {
   "cell_type": "code",
   "execution_count": 2,
   "id": "be63cbc8-70c8-4d3a-a322-f54392769fa2",
   "metadata": {},
   "outputs": [],
   "source": [
    "# 현재 경로를 저장\n",
    "current_path = os.getcwd()\n",
    "\n",
    "# 데이터를 저장할 경로 저장\n",
    "save_path = 'C:/Users/KCG/Desktop/해양과학 데이터 활용 경진대회/Data/'"
   ]
  },
  {
   "cell_type": "code",
   "execution_count": 3,
   "id": "c8bd2454-43fd-4290-ad80-bfd92bddca6c",
   "metadata": {},
   "outputs": [
    {
     "name": "stdout",
     "output_type": "stream",
     "text": [
      "연안구역 격자(3단계) 개수 : 549 \n",
      "\n"
     ]
    },
    {
     "data": {
      "text/html": [
       "<div>\n",
       "<style scoped>\n",
       "    .dataframe tbody tr th:only-of-type {\n",
       "        vertical-align: middle;\n",
       "    }\n",
       "\n",
       "    .dataframe tbody tr th {\n",
       "        vertical-align: top;\n",
       "    }\n",
       "\n",
       "    .dataframe thead th {\n",
       "        text-align: right;\n",
       "    }\n",
       "</style>\n",
       "<table border=\"1\" class=\"dataframe\">\n",
       "  <thead>\n",
       "    <tr style=\"text-align: right;\">\n",
       "      <th></th>\n",
       "      <th>격자번호</th>\n",
       "    </tr>\n",
       "  </thead>\n",
       "  <tbody>\n",
       "    <tr>\n",
       "      <th>0</th>\n",
       "      <td>GR3_F2K12_R</td>\n",
       "    </tr>\n",
       "    <tr>\n",
       "      <th>1</th>\n",
       "      <td>GR3_F2K12_S</td>\n",
       "    </tr>\n",
       "    <tr>\n",
       "      <th>2</th>\n",
       "      <td>GR3_F2K12_T</td>\n",
       "    </tr>\n",
       "    <tr>\n",
       "      <th>3</th>\n",
       "      <td>GR3_F2K12_V</td>\n",
       "    </tr>\n",
       "    <tr>\n",
       "      <th>4</th>\n",
       "      <td>GR3_F2K12_W</td>\n",
       "    </tr>\n",
       "  </tbody>\n",
       "</table>\n",
       "</div>"
      ],
      "text/plain": [
       "          격자번호\n",
       "0  GR3_F2K12_R\n",
       "1  GR3_F2K12_S\n",
       "2  GR3_F2K12_T\n",
       "3  GR3_F2K12_V\n",
       "4  GR3_F2K12_W"
      ]
     },
     "metadata": {},
     "output_type": "display_data"
    }
   ],
   "source": [
    "# 연안구역 격자(3단계) 데이터 불러오기\n",
    "third_grid = pd.read_csv('Data/연안구역_격자(3단계).csv', encoding = 'CP949')\n",
    "\n",
    "# 고유 격자를 리스트 객체로 저장\n",
    "grid_list = third_grid['격자번호'].unique().tolist()\n",
    "\n",
    "print('연안구역 격자(3단계) 개수 :', len(third_grid['격자번호'].unique()), '\\n')\n",
    "display(third_grid.head())"
   ]
  },
  {
   "cell_type": "markdown",
   "id": "6bf86cdd-2c8c-4042-bd92-e3feafdde509",
   "metadata": {},
   "source": [
    "## 1. 해양수산부_연속정보 염분(3분) Open API 데이터 수집"
   ]
  },
  {
   "cell_type": "code",
   "execution_count": 4,
   "id": "db58e7ca-9c70-4fd8-9484-14416f57e4ea",
   "metadata": {},
   "outputs": [
    {
     "name": "stdout",
     "output_type": "stream",
     "text": [
      "Shape of third_grid data *Before Create* : (549, 1) \n",
      "\n"
     ]
    },
    {
     "data": {
      "application/vnd.jupyter.widget-view+json": {
       "model_id": "bb00dbe356af4cc4aea043c08dbce385",
       "version_major": 2,
       "version_minor": 0
      },
      "text/plain": [
       "염분 데이터 수집:   0%|          | 0/549 [00:00<?, ?it/s]"
      ]
     },
     "metadata": {},
     "output_type": "display_data"
    },
    {
     "name": "stdout",
     "output_type": "stream",
     "text": [
      "\n",
      "Shape of third_grid data *After Create* : (549, 3) \n",
      "\n"
     ]
    },
    {
     "data": {
      "text/html": [
       "<div>\n",
       "<style scoped>\n",
       "    .dataframe tbody tr th:only-of-type {\n",
       "        vertical-align: middle;\n",
       "    }\n",
       "\n",
       "    .dataframe tbody tr th {\n",
       "        vertical-align: top;\n",
       "    }\n",
       "\n",
       "    .dataframe thead th {\n",
       "        text-align: right;\n",
       "    }\n",
       "</style>\n",
       "<table border=\"1\" class=\"dataframe\">\n",
       "  <thead>\n",
       "    <tr style=\"text-align: right;\">\n",
       "      <th></th>\n",
       "      <th>격자번호</th>\n",
       "      <th>염분여부</th>\n",
       "      <th>평균염분</th>\n",
       "    </tr>\n",
       "  </thead>\n",
       "  <tbody>\n",
       "    <tr>\n",
       "      <th>0</th>\n",
       "      <td>GR3_F2K12_R</td>\n",
       "      <td>Y</td>\n",
       "      <td>21.609613</td>\n",
       "    </tr>\n",
       "    <tr>\n",
       "      <th>1</th>\n",
       "      <td>GR3_F2K12_S</td>\n",
       "      <td>Y</td>\n",
       "      <td>21.631516</td>\n",
       "    </tr>\n",
       "    <tr>\n",
       "      <th>2</th>\n",
       "      <td>GR3_F2K12_T</td>\n",
       "      <td>Y</td>\n",
       "      <td>23.177613</td>\n",
       "    </tr>\n",
       "    <tr>\n",
       "      <th>3</th>\n",
       "      <td>GR3_F2K12_V</td>\n",
       "      <td>Y</td>\n",
       "      <td>21.433097</td>\n",
       "    </tr>\n",
       "    <tr>\n",
       "      <th>4</th>\n",
       "      <td>GR3_F2K12_W</td>\n",
       "      <td>Y</td>\n",
       "      <td>20.866968</td>\n",
       "    </tr>\n",
       "  </tbody>\n",
       "</table>\n",
       "</div>"
      ],
      "text/plain": [
       "          격자번호 염분여부       평균염분\n",
       "0  GR3_F2K12_R    Y  21.609613\n",
       "1  GR3_F2K12_S    Y  21.631516\n",
       "2  GR3_F2K12_T    Y  23.177613\n",
       "3  GR3_F2K12_V    Y  21.433097\n",
       "4  GR3_F2K12_W    Y  20.866968"
      ]
     },
     "metadata": {},
     "output_type": "display_data"
    }
   ],
   "source": [
    "print('Shape of third_grid data *Before Create* :', third_grid.shape, '\\n')\n",
    "\n",
    "# 해양수산부_연속정보 염분(3분) Open API URL\n",
    "url = 'http://apis.data.go.kr/1192000/apVhdService_Tgcsy3/getOpnTgcsy3?serviceKey=%2FTDcvv2SZo40y%2Flb5WgoPd1bVXJVTg5Q8ttaeN4Qxyf%2Fa3GfdZ%2Fk7vgaa2cotArtbeFtKoe38lyU9Hjtz6rOGA%3D%3D&numOfRows=31&pageNo=1&analsYmd=201908&gridCd={}'\n",
    "\n",
    "# 격자번호에 염분 정보가 포함되어 있지 않는 경우도 있기 때문에, QGIS에서 구별해주기 위해 '염분여부' 변수를 생성해주도록 한다.\n",
    "third_grid['염분여부'] = 'N'\n",
    "\n",
    "# 각 격자의 염분을 저장하기 위해 '평균염분' 변수를 생성\n",
    "third_grid['평균염분'] = 0\n",
    "\n",
    "# 격자번호를 바꿔가면서 데이터 수집\n",
    "for grid in tqdm_notebook(grid_list, desc = '염분 데이터 수집'):\n",
    "    \n",
    "    reponse = requests.get(url.format(grid))\n",
    "    soup = BeautifulSoup(reponse.text, 'html.parser')\n",
    "    \n",
    "    # 'resultcode' 값 추출\n",
    "    result_value = soup.find('resultcode').get_text()\n",
    "    \n",
    "    # 'resultcode'가 00인 경우에 염분 정보가 존재한다.\n",
    "    if result_value != '00':\n",
    "        continue\n",
    "    \n",
    "    else:\n",
    "        third_grid.loc[third_grid['격자번호'] == grid, '염분여부'] = 'Y'\n",
    "        \n",
    "        # 각 격자의 평균염분 계산 후 저장\n",
    "        slnty_value = np.mean([float(value.get_text().strip()) for value in soup.find_all('slnty')])\n",
    "        \n",
    "        third_grid.loc[third_grid['격자번호'] == grid, '평균염분'] = slnty_value\n",
    "\n",
    "print()\n",
    "print('Shape of third_grid data *After Create* :', third_grid.shape, '\\n')\n",
    "display(third_grid.head())"
   ]
  },
  {
   "cell_type": "markdown",
   "id": "7db76543-d3fb-446f-b2ec-5e0c5c91cc82",
   "metadata": {},
   "source": [
    "## 2. 해양수산부_연속정보 수온(3분) Open API 데이터 수집"
   ]
  },
  {
   "cell_type": "code",
   "execution_count": 14,
   "id": "3fee2100-44f8-477a-adb2-3843fef6bec1",
   "metadata": {
    "tags": []
   },
   "outputs": [
    {
     "name": "stdout",
     "output_type": "stream",
     "text": [
      "Shape of third_grid data *Before Create* : (549, 5) \n",
      "\n"
     ]
    },
    {
     "data": {
      "application/vnd.jupyter.widget-view+json": {
       "model_id": "13c1c4f1e37e41d79eb1aa5e681d720b",
       "version_major": 2,
       "version_minor": 0
      },
      "text/plain": [
       "수온 데이터 수집:   0%|          | 0/549 [00:00<?, ?it/s]"
      ]
     },
     "metadata": {},
     "output_type": "display_data"
    },
    {
     "name": "stdout",
     "output_type": "stream",
     "text": [
      "\n",
      "Shape of third_grid data *After Create* : (549, 5) \n",
      "\n"
     ]
    },
    {
     "data": {
      "text/html": [
       "<div>\n",
       "<style scoped>\n",
       "    .dataframe tbody tr th:only-of-type {\n",
       "        vertical-align: middle;\n",
       "    }\n",
       "\n",
       "    .dataframe tbody tr th {\n",
       "        vertical-align: top;\n",
       "    }\n",
       "\n",
       "    .dataframe thead th {\n",
       "        text-align: right;\n",
       "    }\n",
       "</style>\n",
       "<table border=\"1\" class=\"dataframe\">\n",
       "  <thead>\n",
       "    <tr style=\"text-align: right;\">\n",
       "      <th></th>\n",
       "      <th>격자번호</th>\n",
       "      <th>염분여부</th>\n",
       "      <th>평균염분</th>\n",
       "      <th>수온여부</th>\n",
       "      <th>평균수온</th>\n",
       "    </tr>\n",
       "  </thead>\n",
       "  <tbody>\n",
       "    <tr>\n",
       "      <th>0</th>\n",
       "      <td>GR3_F2K12_R</td>\n",
       "      <td>Y</td>\n",
       "      <td>21.609613</td>\n",
       "      <td>Y</td>\n",
       "      <td>27.062632</td>\n",
       "    </tr>\n",
       "    <tr>\n",
       "      <th>1</th>\n",
       "      <td>GR3_F2K12_S</td>\n",
       "      <td>Y</td>\n",
       "      <td>21.631516</td>\n",
       "      <td>Y</td>\n",
       "      <td>27.296471</td>\n",
       "    </tr>\n",
       "    <tr>\n",
       "      <th>2</th>\n",
       "      <td>GR3_F2K12_T</td>\n",
       "      <td>Y</td>\n",
       "      <td>23.177613</td>\n",
       "      <td>Y</td>\n",
       "      <td>27.099375</td>\n",
       "    </tr>\n",
       "    <tr>\n",
       "      <th>3</th>\n",
       "      <td>GR3_F2K12_V</td>\n",
       "      <td>Y</td>\n",
       "      <td>21.433097</td>\n",
       "      <td>Y</td>\n",
       "      <td>27.366000</td>\n",
       "    </tr>\n",
       "    <tr>\n",
       "      <th>4</th>\n",
       "      <td>GR3_F2K12_W</td>\n",
       "      <td>Y</td>\n",
       "      <td>20.866968</td>\n",
       "      <td>Y</td>\n",
       "      <td>27.222222</td>\n",
       "    </tr>\n",
       "  </tbody>\n",
       "</table>\n",
       "</div>"
      ],
      "text/plain": [
       "          격자번호 염분여부       평균염분 수온여부       평균수온\n",
       "0  GR3_F2K12_R    Y  21.609613    Y  27.062632\n",
       "1  GR3_F2K12_S    Y  21.631516    Y  27.296471\n",
       "2  GR3_F2K12_T    Y  23.177613    Y  27.099375\n",
       "3  GR3_F2K12_V    Y  21.433097    Y  27.366000\n",
       "4  GR3_F2K12_W    Y  20.866968    Y  27.222222"
      ]
     },
     "metadata": {},
     "output_type": "display_data"
    }
   ],
   "source": [
    "print('Shape of third_grid data *Before Create* :', third_grid.shape, '\\n')\n",
    "\n",
    "url = 'http://apis.data.go.kr/1192000/apVhdService_Tgcw3/getOpnTgcw3?serviceKey=%2FTDcvv2SZo40y%2Flb5WgoPd1bVXJVTg5Q8ttaeN4Qxyf%2Fa3GfdZ%2Fk7vgaa2cotArtbeFtKoe38lyU9Hjtz6rOGA%3D%3D&numOfRows=10&pageNo=1&analsYmd={}&gridCd={}'\n",
    "\n",
    "# 격자번호에 수온 정보가 포함되어 있지 않는 경우도 있기 때문에, QGIS 구별해주기 위해 '수온여부' 변수를 생성해주도록 한다.\n",
    "third_grid['수온여부'] = 'N'\n",
    "\n",
    "# 각 격자의 수온을 저장하기 위해 '평균수온' 변수를 생성\n",
    "third_grid['평균수온'] = 0\n",
    "\n",
    "# 2019년 8월 데이터를 수집하기 위한 날짜 리스트 생성\n",
    "date_list = [value.strftime('%Y%m%d') for value in pd.date_range(start = '20190801', end = '20190831', freq = 'D').tolist()]\n",
    "\n",
    "for grid in tqdm_notebook(grid_list, desc = '수온 데이터 수집'):\n",
    "    \n",
    "    # 격자별로 2019년 8월의 수온 값을 저장하기 위한 리스트 객체 생성\n",
    "    grid_water = []\n",
    "    \n",
    "    # 수온 API는 일자를 바꿔가며 데이터를 수집해야 한다.\n",
    "    for date in date_list:\n",
    "        \n",
    "        reponse = requests.get(url.format(date, grid))\n",
    "        soup = BeautifulSoup(reponse.text, 'html.parser')\n",
    "        \n",
    "        try:\n",
    "            # 'resultcode' 값 추출\n",
    "            result_value = soup.find('resultcode').get_text()\n",
    "\n",
    "            # 'resultcode'가 00이 아닌 경우에는 수온 정보가 존재하지 않기 때문에 넘어가도록 한다.\n",
    "            if result_value != '00':\n",
    "                continue\n",
    "\n",
    "            # 'resultcode'가 00인 경우에 수온 정보가 존재한다.\n",
    "            else:\n",
    "                wtem_value = float(soup.find('wtem').get_text().strip())\n",
    "\n",
    "                # 'grid_water' 리스트에 저장\n",
    "                grid_water.append(wtem_value)\n",
    "                \n",
    "        except:\n",
    "            continue\n",
    "            \n",
    "    # 데이터 존재유무를 확인하기 위해 'grid_water' 리스트의 길이를 저장\n",
    "    grid_water_length = len(grid_water)\n",
    "    \n",
    "    # 'grid_water' 리스트의 길이가 1 이상인 경우에만 해당 격자의 수온 정보가 포함되어 있음을 의미한다.\n",
    "    if grid_water_length >= 1:\n",
    "        third_grid.loc[third_grid['격자번호'] == grid, '수온여부'] = 'Y'\n",
    "        \n",
    "        # 각 격자의 평균수온 계산 후 저장\n",
    "        wtem_value = np.mean(grid_water)\n",
    "        third_grid.loc[third_grid['격자번호'] == grid, '평균수온'] = wtem_value\n",
    "    \n",
    "    time.sleep(0.5)\n",
    "    \n",
    "print()\n",
    "print('Shape of third_grid data *After Create* :', third_grid.shape, '\\n')\n",
    "display(third_grid.head())"
   ]
  },
  {
   "cell_type": "code",
   "execution_count": 20,
   "id": "f7e3915b-b8aa-48ac-a8a8-c033f923f777",
   "metadata": {},
   "outputs": [],
   "source": [
    "third_grid.to_csv(save_path + 'oepn.csv', encoding = 'CP949', index = False)"
   ]
  },
  {
   "cell_type": "code",
   "execution_count": 17,
   "id": "3120f542-b1d9-4131-b664-114af8397ec7",
   "metadata": {},
   "outputs": [
    {
     "data": {
      "text/plain": [
       "54"
      ]
     },
     "execution_count": 17,
     "metadata": {},
     "output_type": "execute_result"
    }
   ],
   "source": [
    "len(third_grid[third_grid['수온여부'] == 'Y'])"
   ]
  },
  {
   "cell_type": "code",
   "execution_count": null,
   "id": "988869fa-d396-4702-9af8-512094546841",
   "metadata": {},
   "outputs": [],
   "source": []
  }
 ],
 "metadata": {
  "kernelspec": {
   "display_name": "Python 3",
   "language": "python",
   "name": "python3"
  },
  "language_info": {
   "codemirror_mode": {
    "name": "ipython",
    "version": 3
   },
   "file_extension": ".py",
   "mimetype": "text/x-python",
   "name": "python",
   "nbconvert_exporter": "python",
   "pygments_lexer": "ipython3",
   "version": "3.9.4"
  }
 },
 "nbformat": 4,
 "nbformat_minor": 5
}
